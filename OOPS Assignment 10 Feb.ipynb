{
 "cells": [
  {
   "cell_type": "markdown",
   "id": "18e67ba6-a931-4d72-a151-b6e75b6573ea",
   "metadata": {},
   "source": [
    "Q1) Which function is used to open a file? What are the different modes of opening a file? Explain each mode\n",
    "of file opening."
   ]
  },
  {
   "cell_type": "code",
   "execution_count": null,
   "id": "2b72ec4f-3096-412d-8f20-7ae1cc5e5386",
   "metadata": {},
   "outputs": [],
   "source": [
    "Before performing any operation (like read or write) on the file,first we have to open that file.For this we should use Python's inbuilt function open() But at\n",
    "the time of open, we have to specify mode,which represents the purpose of opening file.\n",
    "\n",
    "Sytax1 : f = open(filename, mode)\n",
    "\n",
    "Syntax2:\n",
    "with open(filename,moded) as f:\n",
    "\n",
    "The allowed modes in Python are\n",
    "\n",
    "1)r : open an existing file for read operation. The file pointer is positioned at the\n",
    "beginning of the file.If the specified file does not exist then we will get FileNotFoundError.This is default mode\n",
    "\n",
    "2)w : open an existing file for write operation. If the file already contains some data\n",
    "then it will be overridden. If the specified file is not already avaialble then this mode will create that file.\n",
    "\n",
    "3)a : open an existing file for append operation. It won't override existing data.If the\n",
    "specified file is not already avaialble then this mode will create a new file.\n",
    "\n",
    "4)r+ : To read and write data into the file. The previous data in the file will not be\n",
    "deleted.The file pointer is placed at the beginning of the file.\n",
    "\n",
    "5)w+ : To write and read data. It will override existing data.\n",
    "\n",
    "6)a+ : To append and read data from the file.It wont override existing data.\n",
    "\n",
    "7)x : To open a file in exclusive creation mode for write operation. If the file already\n",
    "\n",
    "exists then we will get FileExistsError.\n",
    "Note: All the above modes are applicable for text files. If the above modes suffixed with 'b' then these represents for binary files. Eg: rb,wb,ab,r+b,w+b,a+b,xb"
   ]
  },
  {
   "cell_type": "code",
   "execution_count": null,
   "id": "bc8c0ee6-dc97-4ef8-91ae-618760f1c952",
   "metadata": {},
   "outputs": [],
   "source": [
    "# Examples\n",
    "# Open file in read mode\n",
    "with open('file.txt', 'r') as file:\n",
    "    data = file.read()\n",
    "\n",
    "# Open file in write mode\n",
    "with open('file.txt', 'w') as file:\n",
    "    file.write('Hello World')\n",
    "\n",
    "# Open file in append mode\n",
    "with open('file.txt', 'a') as file:\n",
    "    file.write('Hello World')\n",
    "\n",
    "# Open binary file in binary read mode\n",
    "with open('file.bin', 'rb') as file:\n",
    "    data = file.read()\n",
    "\n",
    "# Open binary file in binary write mode\n",
    "with open('file.bin', 'wb') as file:\n",
    "    file.write(b'Hello World')\n",
    "\n",
    "# Open binary file in binary append mode\n",
    "with open('file.bin', 'ab') as file:\n",
    "    file.write(b'Hello World')"
   ]
  },
  {
   "cell_type": "markdown",
   "id": "3ef1c198-403f-4872-b05f-ed6d2d890c4c",
   "metadata": {},
   "source": [
    "Q2) Why close() function is used? Why is it important to close a file?"
   ]
  },
  {
   "cell_type": "code",
   "execution_count": null,
   "id": "b2223b39-1d7c-41c2-8249-2676d76b7a22",
   "metadata": {},
   "outputs": [],
   "source": [
    "The close() function is used to close an open file in Python.\n",
    "\n",
    "It's important to close a file in Python for several reasons:\n",
    "\n",
    "1)Releasing resources: When you open a file, your system reserves resources, such as memory, for that file. Closing the file frees up those resources for other\n",
    "tasks.\n",
    "\n",
    "2)Preventing data corruption: When you write to a file, the data is not immediately written to the file system. It's stored in a buffer, which is flushed to the\n",
    "file system when the file is closed. If you don't close a file properly, the data in the buffer may not be written to the file, leading to data corruption.\n",
    "\n",
    "3)Avoiding file lock issues: When you open a file, it's locked for use by the current process. If you don't close the file, other processes may not be able to\n",
    "access it, leading to file lock issues.\n",
    "\n",
    "4)Proper file management: Properly closing files helps ensure that the file system remains in a consistent state. If you don't close a file, the file may remain \n",
    "open, even after the Python process has exited, which can lead to unexpected behavior in other programs that try to access the file.\n",
    "\n",
    "Here's an example of how to properly close a file in Python:"
   ]
  },
  {
   "cell_type": "code",
   "execution_count": null,
   "id": "4c74ec4f-dae4-4c3d-91eb-33c971b2e884",
   "metadata": {},
   "outputs": [],
   "source": [
    "# Open a file for reading\n",
    "file = open(\"file.txt\", \"r\")\n",
    "\n",
    "# Read the contents of the file\n",
    "data = file.read()\n",
    "\n",
    "# Do something with the data\n",
    "# ...\n",
    "\n",
    "# Close the file\n",
    "file.close()"
   ]
  },
  {
   "cell_type": "code",
   "execution_count": null,
   "id": "396e2bd8-a7f3-4dfe-bd6b-74c9f72409ef",
   "metadata": {},
   "outputs": [],
   "source": [
    "In this example, the file is opened for reading, the contents are read, and the file is then properly closed.\n",
    "\n",
    "It's also worth mentioning that you can use the with statement in Python to automatically close a file for you, even if an exception is raised during processing.\n",
    "Here's an example:"
   ]
  },
  {
   "cell_type": "code",
   "execution_count": null,
   "id": "c4918a5e-efde-4e32-9207-5e20fd4ad66e",
   "metadata": {},
   "outputs": [],
   "source": [
    "with open(\"file.txt\", \"r\") as file:\n",
    "    data = file.read()\n",
    "    # Do something with the data\n",
    "    # ...\n",
    "\n",
    "# The file is automatically closed when the `with` block is exited,\n",
    "# even if an exception was raised during processing."
   ]
  },
  {
   "cell_type": "markdown",
   "id": "72192ac0-7cf1-4b8d-abd8-b827c8befa29",
   "metadata": {},
   "source": [
    "Q3) Write a python program to create a text file. Write ‘I want to become a Data Scientist’ in that file. Then\n",
    "close the file. Open this file and read the content of the file."
   ]
  },
  {
   "cell_type": "code",
   "execution_count": null,
   "id": "2bf43337-92b0-4903-b67b-696c4e65d0ce",
   "metadata": {},
   "outputs": [],
   "source": [
    "Here's a Python program that creates a text file, writes the specified text to the file, closes the file, and then opens it again to read the contents:"
   ]
  },
  {
   "cell_type": "code",
   "execution_count": 2,
   "id": "9de01946-bbb8-4a5e-be4c-e2f2b8782a21",
   "metadata": {},
   "outputs": [
    {
     "name": "stdout",
     "output_type": "stream",
     "text": [
      "I want to become a Data Scientist\n"
     ]
    }
   ],
   "source": [
    "# Create a text file and write to it\n",
    "file = open(\"text_file.txt\", \"w\") \n",
    "file.write(\"I want to become a Data Scientist\")\n",
    "file.close()\n",
    "\n",
    "# Open the file and read its contents\n",
    "file = open(\"text_file.txt\", \"r\") \n",
    "content = file.read()\n",
    "print(content)\n",
    "file.close()"
   ]
  },
  {
   "cell_type": "markdown",
   "id": "a63af9a9-6f67-40e3-8238-dd0941966ecc",
   "metadata": {},
   "source": [
    "Q4) Explain the following with python code: read(), readline() and readlines()."
   ]
  },
  {
   "cell_type": "code",
   "execution_count": null,
   "id": "2021a393-17a4-41e8-a79f-9ba048754450",
   "metadata": {},
   "outputs": [],
   "source": [
    "The read(), readline(), and readlines() functions are used to read the contents of a file in Python. Here's a brief explanation of each function:\n",
    "\n",
    "1)read() - The read() function reads the entire contents of the file as a single string. Here's an example:"
   ]
  },
  {
   "cell_type": "code",
   "execution_count": 3,
   "id": "c96fa9fe-6ec6-404a-9ae7-6c3778bf2510",
   "metadata": {},
   "outputs": [
    {
     "name": "stdout",
     "output_type": "stream",
     "text": [
      "I want to become a Data Scientist\n"
     ]
    }
   ],
   "source": [
    "# Open a file for reading\n",
    "with open(\"text_file.txt\", \"r\") as file:\n",
    "    content = file.read()\n",
    "    print(content)"
   ]
  },
  {
   "cell_type": "code",
   "execution_count": null,
   "id": "3c29f150-5a76-4817-a21a-d02c4917ae10",
   "metadata": {},
   "outputs": [],
   "source": [
    "In this example, the read() function reads the entire contents of the file and stores it in the content variable.\n",
    "\n",
    "2)readline() - The readline() function reads a single line from the file. Here's an example:"
   ]
  },
  {
   "cell_type": "code",
   "execution_count": 4,
   "id": "1bc096ea-4ea6-44ab-8f27-666697a167e8",
   "metadata": {},
   "outputs": [
    {
     "name": "stdout",
     "output_type": "stream",
     "text": [
      "I want to become a Data Scientist\n"
     ]
    }
   ],
   "source": [
    "# Open a file for reading\n",
    "with open(\"text_file.txt\", \"r\") as file:\n",
    "    line = file.readline()\n",
    "    while line:\n",
    "        print(line)\n",
    "        line = file.readline()"
   ]
  },
  {
   "cell_type": "code",
   "execution_count": null,
   "id": "025ff9ff-0fc2-42f1-accc-6c365dd583a5",
   "metadata": {},
   "outputs": [],
   "source": [
    "In this example, the readline() function is used in a while loop to read each line of the file, one line at a time, until the end of the file is reached.\n",
    "\n",
    "3)readlines() - The readlines() function reads the entire contents of the file as a list of strings, where each element of the list corresponds to a single line in\n",
    "the file. Here's an example:"
   ]
  },
  {
   "cell_type": "code",
   "execution_count": 5,
   "id": "2edb4bd8-85e6-41e9-ae80-25133bbcbd77",
   "metadata": {},
   "outputs": [
    {
     "name": "stdout",
     "output_type": "stream",
     "text": [
      "I want to become a Data Scientist\n"
     ]
    }
   ],
   "source": [
    "# Open a file for reading\n",
    "with open(\"text_file.txt\", \"r\") as file:\n",
    "    lines = file.readlines()\n",
    "    for line in lines:\n",
    "        print(line)"
   ]
  },
  {
   "cell_type": "code",
   "execution_count": null,
   "id": "db5c5404-96d6-469a-903d-402ce3f434b4",
   "metadata": {},
   "outputs": [],
   "source": [
    "In this example, the readlines() function reads the entire contents of the file and stores it in the lines variable, which is a list of strings. The contents of \n",
    "the file are then printed to the console, line by line, using a for loop."
   ]
  },
  {
   "cell_type": "markdown",
   "id": "c50c2a71-729e-4c47-98d9-4eed654c8a40",
   "metadata": {},
   "source": [
    "Q5) Explain why with statement is used with open(). What is the advantage of using with statement and\n",
    "open() together?"
   ]
  },
  {
   "cell_type": "code",
   "execution_count": null,
   "id": "bf94d83b-9e3b-44e0-a08a-8144c08be808",
   "metadata": {},
   "outputs": [],
   "source": [
    "The with statement is used with open() to ensure that the file is properly closed after processing is completed, even if an exception is raised during processing.\n",
    "The with statement provides a convenient way to manage the lifetime of an object, such as a file, and automatically takes care of closing the file when the with \n",
    "block is exited.\n",
    "Here's an example of using the with statement with open():"
   ]
  },
  {
   "cell_type": "code",
   "execution_count": 6,
   "id": "67e8e2b6-2459-40c1-bd21-197ccb0678d5",
   "metadata": {},
   "outputs": [
    {
     "name": "stdout",
     "output_type": "stream",
     "text": [
      "I want to become a Data Scientist\n"
     ]
    }
   ],
   "source": [
    "with open(\"text_file.txt\", \"r\") as file:\n",
    "    content = file.read()\n",
    "    print(content)"
   ]
  },
  {
   "cell_type": "code",
   "execution_count": null,
   "id": "7c00b059-47a0-4f91-8950-f8a13be197f3",
   "metadata": {},
   "outputs": [],
   "source": [
    "In this example, the file text_file.txt is opened using the open() function, and the with statement is used to manage the file's lifetime. The file is \n",
    "automatically closed when the with block is exited, even if an exception is raised during processing.\n",
    "\n",
    "The advantage of using the with statement with open() is that it provides a way to handle file I/O in a clean and consistent manner. It eliminates the need to \n",
    "manually close the file using the file.close() method, which can be prone to errors, especially if there are multiple files being processed or if an exception is\n",
    "raised during processing.\n",
    "\n",
    "By using the with statement, you can ensure that the file is properly closed, even if an exception is raised, which helps to prevent resource leaks and makes your\n",
    "code more robust and reliable."
   ]
  },
  {
   "cell_type": "markdown",
   "id": "2c94d946-b3bf-43c4-8563-a8cac7d32fea",
   "metadata": {},
   "source": [
    "Q6) Explain the write() and writelines() functions. Give a suitable example."
   ]
  },
  {
   "cell_type": "code",
   "execution_count": null,
   "id": "60de74da-f829-42a9-9b73-9b5369acd760",
   "metadata": {},
   "outputs": [],
   "source": [
    "The write() and writelines() functions are used to write data to a file in Python.\n",
    "\n",
    "1)write() - The write() function writes a string to a file. Here's an example:"
   ]
  },
  {
   "cell_type": "code",
   "execution_count": 7,
   "id": "94d3de98-7e89-46c9-8dac-56fc126bb28b",
   "metadata": {},
   "outputs": [
    {
     "name": "stdout",
     "output_type": "stream",
     "text": [
      "I want to become a Data Scientist\n"
     ]
    }
   ],
   "source": [
    "# Open a file for writing\n",
    "with open(\"text_file1.txt\", \"w\") as file:\n",
    "    file.write(\"I want to become a Data Scientist\")\n",
    "    \n",
    "with open(\"text_file1.txt\",\"r\") as file:\n",
    "    content = file.read()\n",
    "    print(content)"
   ]
  },
  {
   "cell_type": "code",
   "execution_count": null,
   "id": "b8a71f37-6562-4b4e-8cda-87eda057ef4f",
   "metadata": {},
   "outputs": [],
   "source": [
    "In this example, the file text_file.txt is opened using the open() function in write mode (\"w\"), and the write() function is used to write a string to the file.\n",
    "\n",
    "2)writelines() - The writelines() function writes a list of strings to a file. Here's an example:"
   ]
  },
  {
   "cell_type": "code",
   "execution_count": 8,
   "id": "54ed4a64-02aa-4cd1-b1ed-eb7c596c9a02",
   "metadata": {},
   "outputs": [
    {
     "name": "stdout",
     "output_type": "stream",
     "text": [
      "I want to become a Data ScientistData Science is my passion\n"
     ]
    }
   ],
   "source": [
    "# Open a file for writing\n",
    "with open(\"text_file2.txt\", \"w\") as file:\n",
    "    lines = [\"I want to become a Data Scientist\", \"Data Science is my passion\"]\n",
    "    file.writelines(lines)\n",
    "\n",
    "with open(\"text_file2.txt\",\"r\") as file:\n",
    "    content = file.read()\n",
    "    print(content)"
   ]
  },
  {
   "cell_type": "code",
   "execution_count": null,
   "id": "f68fa5d7-d7e0-4f5c-bf05-31d9bfbab55f",
   "metadata": {},
   "outputs": [],
   "source": []
  },
  {
   "cell_type": "code",
   "execution_count": null,
   "id": "4bdfbacc-7c5d-4715-99a3-c492b7afb551",
   "metadata": {},
   "outputs": [],
   "source": []
  }
 ],
 "metadata": {
  "kernelspec": {
   "display_name": "Python 3 (ipykernel)",
   "language": "python",
   "name": "python3"
  },
  "language_info": {
   "codemirror_mode": {
    "name": "ipython",
    "version": 3
   },
   "file_extension": ".py",
   "mimetype": "text/x-python",
   "name": "python",
   "nbconvert_exporter": "python",
   "pygments_lexer": "ipython3",
   "version": "3.10.8"
  }
 },
 "nbformat": 4,
 "nbformat_minor": 5
}
